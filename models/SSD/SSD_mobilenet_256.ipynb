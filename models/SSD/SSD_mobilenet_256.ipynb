{
 "cells": [
  {
   "cell_type": "code",
   "execution_count": null,
   "metadata": {},
   "outputs": [],
   "source": [
    "import sys, os"
   ]
  },
  {
   "cell_type": "code",
   "execution_count": null,
   "metadata": {},
   "outputs": [],
   "source": [
    "from tensorflow.keras import Model\n",
    "from tensorflow.keras.applications import MobileNetV2\n",
    "import tensorflow.keras.layers as layers\n",
    "import tensorflow as tf\n",
    "import numpy as np\n",
    "import os"
   ]
  },
  {
   "cell_type": "code",
   "execution_count": null,
   "metadata": {},
   "outputs": [],
   "source": []
  },
  {
   "cell_type": "code",
   "execution_count": null,
   "metadata": {},
   "outputs": [],
   "source": [
    "# feature extractor\n",
    "mobilenet_v2 = MobileNetV2(input_shape=(224,224,3), weights=\"imagenet\", include_top=False)\n",
    "tf.keras.utils.plot_model(mobilenet_v2, show_shapes=True)\n"
   ]
  },
  {
   "cell_type": "code",
   "execution_count": null,
   "metadata": {},
   "outputs": [],
   "source": [
    "output_tensor = mobilenet_v2.get_layer(\"block_5_add\").output\n",
    "feature_extractor = tf.keras.Model(inputs=[mobilenet_v2.input], outputs=[output_tensor])\n",
    "feature_extractor.summary()"
   ]
  },
  {
   "cell_type": "code",
   "execution_count": null,
   "metadata": {},
   "outputs": [],
   "source": [
    "def build_mobilenet_block(num_filter, strides=(2,2)):\n",
    "    block = tf.keras.Sequential([tf.keras.layers.Conv2D(num_filter, 1, padding='same'),\n",
    "                     tf.keras.layers.BatchNormalization(),\n",
    "                     tf.keras.layers.ReLU(),\n",
    "\n",
    "                     tf.keras.layers.DepthwiseConv2D(3, strides=strides, padding='same'),\n",
    "                     tf.keras.layers.BatchNormalization(),\n",
    "                     tf.keras.layers.ReLU(),\n",
    "\n",
    "                     tf.keras.layers.Conv2D(num_filter, 1, padding='same'),\n",
    "                     tf.keras.layers.BatchNormalization(),\n",
    "                     tf.keras.layers.ReLU()])\n",
    "    return block\n",
    "\n",
    "\n",
    "neck1 = build_mobilenet_block(512, (1,1)) #28,28\n",
    "neck2 = build_mobilenet_block(512, (1,1)) #28,28\n",
    "neck3 = build_mobilenet_block(512, (1,1)) #28,28\n",
    "block1 = build_mobilenet_block(256) #14,14\n",
    "block2 = build_mobilenet_block(256) # 7, 7\n",
    "block3 = build_mobilenet_block(256) # 4, 4\n",
    "block4 = build_mobilenet_block(256) # 2, 2\n",
    "block5 = build_mobilenet_block(256) # 1, 1"
   ]
  },
  {
   "cell_type": "code",
   "execution_count": null,
   "metadata": {},
   "outputs": [],
   "source": [
    "input_layer = tf.keras.Input(shape=(224,224,3))\n",
    "x = feature_extractor(input_layer)\n",
    "x = neck1(x)\n",
    "x = neck2(x)\n",
    "x = neck3(x)\n",
    "y1 = block1(x)\n",
    "y2 = block2(y1)\n",
    "y3 = block3(y2)\n",
    "y4 = block4(y3)\n",
    "y5 = block5(y4)"
   ]
  },
  {
   "cell_type": "code",
   "execution_count": null,
   "metadata": {},
   "outputs": [],
   "source": [
    "'''\n",
    "from utils.anchor import generate_retina_boxes\n",
    "anchor_param = {\"ratios\": [0.5, 1, 2, 3, 5],\n",
    "                \"scales\": [1.0, 1.33, 1.66],\n",
    "                           \"fm_sizes\": [32, 16, 8, 4, 2, 1],\n",
    "                           \"image_size\": 128} #anchor parameters\n",
    "anchors = generate_retina_boxes(anchor_param)\n",
    "'''"
   ]
  },
  {
   "cell_type": "code",
   "execution_count": null,
   "metadata": {},
   "outputs": [],
   "source": [
    "for i in [x, y1,y2,y3,y4,y5]:\n",
    "    print(i.shape)"
   ]
  },
  {
   "cell_type": "code",
   "execution_count": null,
   "metadata": {},
   "outputs": [],
   "source": [
    "def build_head_network(filter=3):\n",
    "    head_network = tf.keras.Sequential()\n",
    "    head_network.add(tf.keras.layers.Conv2D(256, kernel_size=filter, activation='relu' ,padding='same'))\n",
    "    head_network.add(tf.keras.layers.BatchNormalization())\n",
    "    head_network.add(tf.keras.layers.ReLU())\n",
    "    return head_network\n",
    "\n",
    "#conf header\n",
    "anchor_types = 15\n",
    "num_classes = 4\n",
    "confs = []\n",
    "\n",
    "conf = build_head_network(filter=3)(x)\n",
    "conf = layers.Conv2D(anchor_types * num_classes, kernel_size=3, padding='same')(conf)\n",
    "conf = tf.reshape(conf, [-1, 28*28*anchor_types,num_classes])\n",
    "confs.append(conf)\n",
    "\n",
    "conf = build_head_network(filter=3)(y1)\n",
    "conf = layers.Conv2D(anchor_types * num_classes, kernel_size=3, padding='same')(conf)\n",
    "conf = tf.reshape(conf, [-1, 14*14*anchor_types,num_classes])\n",
    "confs.append(conf)\n",
    "\n",
    "conf = build_head_network(filter=3)(y2)\n",
    "conf = layers.Conv2D(anchor_types * num_classes, kernel_size=3, padding='same')(conf)\n",
    "conf = tf.reshape(conf, [-1, 7*7*anchor_types,num_classes])\n",
    "confs.append(conf)\n",
    "\n",
    "conf = build_head_network(filter=3)(y3)\n",
    "conf = layers.Conv2D(anchor_types * num_classes, kernel_size=3, padding='same')(conf)\n",
    "conf = tf.reshape(conf, [-1, 4*4*anchor_types,num_classes])\n",
    "confs.append(conf)\n",
    "\n",
    "conf = build_head_network(filter=3)(y4)\n",
    "conf = layers.Conv2D(anchor_types * num_classes, kernel_size=3, padding='same')(conf)\n",
    "conf = tf.reshape(conf, [-1, 2*2*anchor_types,num_classes])\n",
    "confs.append(conf)\n",
    "\n",
    "conf = build_head_network(filter=1)(y5)\n",
    "conf = layers.Conv2D(anchor_types * num_classes, kernel_size=3, padding='same')(conf)\n",
    "conf = tf.reshape(conf, [-1, 1*1*anchor_types,num_classes])\n",
    "confs.append(conf)\n",
    "\n",
    "\n",
    "\n",
    "#location header\n",
    "anchor_types = 15\n",
    "coords = 4\n",
    "locs = []\n",
    "\n",
    "loc = build_head_network(filter=3)(x)\n",
    "loc = layers.Conv2D(anchor_types * coords, kernel_size=3, padding='same')(loc)\n",
    "loc = tf.reshape(loc, [-1, 28*28*anchor_types, coords])\n",
    "locs.append(loc)\n",
    "\n",
    "loc = build_head_network(filter=3)(y1)\n",
    "loc = layers.Conv2D(anchor_types * coords, kernel_size=3, padding='same')(loc)\n",
    "loc = tf.reshape(loc, [-1, 14*14*anchor_types, coords])\n",
    "locs.append(loc)\n",
    "\n",
    "loc = build_head_network(filter=3)(y2)\n",
    "loc = layers.Conv2D(anchor_types * coords, kernel_size=3, padding='same')(loc)\n",
    "loc = tf.reshape(loc, [-1, 7*7*anchor_types, coords])\n",
    "locs.append(loc)\n",
    "\n",
    "loc = build_head_network(filter=3)(y3)\n",
    "loc = layers.Conv2D(anchor_types * coords, kernel_size=3, padding='same')(loc)\n",
    "loc = tf.reshape(loc, [-1, 4*4*anchor_types, coords])\n",
    "locs.append(loc)\n",
    "\n",
    "loc = build_head_network(filter=3)(y4)\n",
    "loc = layers.Conv2D(anchor_types * coords, kernel_size=3, padding='same')(loc)\n",
    "loc = tf.reshape(loc, [-1, 2*2*anchor_types, coords])\n",
    "locs.append(loc)\n",
    "\n",
    "loc = build_head_network(filter=1)(y5)\n",
    "loc = layers.Conv2D(anchor_types * coords, kernel_size=3, padding='same')(loc)\n",
    "loc = tf.reshape(loc, [-1, 1*1*anchor_types, coords])\n",
    "locs.append(loc)\n",
    "\n",
    "confs = tf.concat(confs, axis=-2)\n",
    "locs = tf.concat(locs, axis=-2)"
   ]
  },
  {
   "cell_type": "code",
   "execution_count": null,
   "metadata": {},
   "outputs": [],
   "source": [
    "model = tf.keras.Model(inputs=[input_layer], outputs=[confs,locs])\n",
    "tf.keras.utils.plot_model(model, show_shapes=True, expand_nested=True)"
   ]
  },
  {
   "cell_type": "code",
   "execution_count": null,
   "metadata": {},
   "outputs": [],
   "source": [
    "model.save(\"SSD-mobilenet-224-imagenet.h5\")"
   ]
  },
  {
   "cell_type": "code",
   "execution_count": null,
   "metadata": {},
   "outputs": [],
   "source": []
  }
 ],
 "metadata": {
  "kernelspec": {
   "display_name": "Python 3",
   "language": "python",
   "name": "python3"
  },
  "language_info": {
   "codemirror_mode": {
    "name": "ipython",
    "version": 3
   },
   "file_extension": ".py",
   "mimetype": "text/x-python",
   "name": "python",
   "nbconvert_exporter": "python",
   "pygments_lexer": "ipython3",
   "version": "3.6.9"
  }
 },
 "nbformat": 4,
 "nbformat_minor": 4
}
