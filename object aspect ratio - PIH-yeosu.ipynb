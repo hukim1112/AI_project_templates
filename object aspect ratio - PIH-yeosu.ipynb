{
 "cells": [
  {
   "cell_type": "code",
   "execution_count": null,
   "id": "0f791619",
   "metadata": {},
   "outputs": [],
   "source": [
    "import os\n",
    "from utils import session_config\n",
    "os.environ['CUDA_VISIBLE_DEVICES'] = \"0\" # 사용 gpu 선택\n",
    "session_config.setup_gpus(True, 0.4) # gpu 메모리 사용량 세팅"
   ]
  },
  {
   "cell_type": "code",
   "execution_count": null,
   "id": "901e6a05",
   "metadata": {},
   "outputs": [],
   "source": [
    "%config Completer.use_jedi = False"
   ]
  },
  {
   "cell_type": "code",
   "execution_count": null,
   "id": "07f77ec4",
   "metadata": {},
   "outputs": [],
   "source": []
  },
  {
   "cell_type": "code",
   "execution_count": null,
   "id": "c27e6ced",
   "metadata": {},
   "outputs": [],
   "source": [
    "from data import coco\n",
    "from utils.anchor import generate_retina_boxes"
   ]
  },
  {
   "cell_type": "code",
   "execution_count": null,
   "id": "d12986da",
   "metadata": {},
   "outputs": [],
   "source": [
    "anchor_param = {\"ratios\": [0.5, 1, 2],\n",
    "                \"scales\": [1.0, 1.25,1.58],\n",
    "                           \"fm_sizes\": [32, 16, 8, 4, 2, 1],\n",
    "                           \"image_size\": 128} #anchor parameters\n",
    "anchors = generate_retina_boxes(anchor_param)\n",
    "\n",
    "dataset_root = \"/home/files/cnsi-sed-dataset\"\n",
    "dataset = coco.Dataset(dataset_root=dataset_root, \n",
    "                       input_shape=(128,182), \n",
    "                       label_set=[\"head\",\"helmet\"],\n",
    "                       anchors=anchors)\n",
    "\n",
    "annotation_path = \"/home/files/cnsi-sed-dataset/files/PIH_yeosu_test/annotations/annotations.json\"\n",
    "train_ds, length = dataset.load_data_generator(annotation_path, is_augment=False, is_box=True, num_examples=-1)"
   ]
  },
  {
   "cell_type": "code",
   "execution_count": null,
   "id": "8ec5ba66",
   "metadata": {},
   "outputs": [],
   "source": [
    "head = []\n",
    "helmet = []\n",
    "\n",
    "\n",
    "def calculate_aspect_ratio(box):\n",
    "    xmin,ymin,xmax,ymax = box\n",
    "    ratio = (ymax-ymin)/(xmax-xmin) #너비 대비 높이\n",
    "    scale = (xmax-xmin)*(ymax-ymin) #이미지 대비 차지넓이\n",
    "    return scale, ratio\n",
    "    \n",
    "    \n",
    "for filename, image, labels, boxes in train_ds.take(10000):\n",
    "    for label, box in zip(labels, boxes):\n",
    "        if label == 1: #head\n",
    "            scale, ratio = calculate_aspect_ratio(box)\n",
    "            head.append([scale, ratio])\n",
    "        elif label == 2: #helmet\n",
    "            scale, ratio = calculate_aspect_ratio(box)\n",
    "            helmet.append([scale, ratio])"
   ]
  },
  {
   "cell_type": "code",
   "execution_count": null,
   "id": "39551e69",
   "metadata": {},
   "outputs": [],
   "source": [
    "from matplotlib import pyplot as plt\n",
    "import numpy as np\n",
    "\n"
   ]
  },
  {
   "cell_type": "code",
   "execution_count": null,
   "id": "bf2edf17",
   "metadata": {},
   "outputs": [],
   "source": [
    "head = np.array(head)\n",
    "helmet = np.array(helmet)"
   ]
  },
  {
   "cell_type": "code",
   "execution_count": null,
   "id": "37f574a5",
   "metadata": {},
   "outputs": [],
   "source": [
    "x = head\n",
    "\n",
    "plt.scatter(x[:,0],\n",
    "            x[:,1], s=0.5, c='r', label='head')\n",
    "plt.title(\"Object scale-ratio scatter graph\")\n",
    "plt.xlabel(\"Scale : object area by image area\")\n",
    "plt.ylabel(\"ratio : object height divided by width\")\n",
    "plt.legend()\n",
    "plt.show()\n",
    "plt.title(\"aspect ratio over 1.0\")\n",
    "plt.hist(x[:,1], range=(1,7), bins=10)\n",
    "plt.ylim(top=20)\n",
    "plt.show()\n",
    "plt.title(\"aspect ratio below 1.0\")\n",
    "plt.hist(x[:,1], range=(0,1), bins=10)\n",
    "plt.ylim(top=100)\n",
    "plt.show()"
   ]
  },
  {
   "cell_type": "code",
   "execution_count": null,
   "id": "37317393",
   "metadata": {},
   "outputs": [],
   "source": [
    "x = helmet\n",
    "\n",
    "plt.scatter(x[:,0],\n",
    "            x[:,1], s=0.5, c='r', label='helmet')\n",
    "plt.title(\"Object scale-ratio scatter graph\")\n",
    "plt.xlabel(\"Scale : object area by image area\")\n",
    "plt.ylabel(\"ratio : object height divided by width\")\n",
    "plt.legend()\n",
    "plt.show()\n",
    "plt.title(\"aspect ratio over 1.0\")\n",
    "plt.hist(x[:,1], range=(1,7), bins=10)\n",
    "plt.ylim(top=2000)\n",
    "plt.show()\n",
    "plt.title(\"aspect ratio below 1.0\")\n",
    "plt.hist(x[:,1], range=(0,1), bins=10)\n",
    "plt.ylim(top=2000)\n",
    "plt.show()"
   ]
  },
  {
   "cell_type": "code",
   "execution_count": null,
   "id": "02fa480d",
   "metadata": {},
   "outputs": [],
   "source": []
  }
 ],
 "metadata": {
  "kernelspec": {
   "display_name": "Python 3",
   "language": "python",
   "name": "python3"
  },
  "language_info": {
   "codemirror_mode": {
    "name": "ipython",
    "version": 3
   },
   "file_extension": ".py",
   "mimetype": "text/x-python",
   "name": "python",
   "nbconvert_exporter": "python",
   "pygments_lexer": "ipython3",
   "version": "3.6.9"
  }
 },
 "nbformat": 4,
 "nbformat_minor": 5
}
