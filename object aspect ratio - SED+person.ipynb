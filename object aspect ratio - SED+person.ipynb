{
 "cells": [
  {
   "cell_type": "code",
   "execution_count": null,
   "id": "0dd746a6",
   "metadata": {},
   "outputs": [],
   "source": [
    "import os\n",
    "from utils import session_config\n",
    "os.environ['CUDA_VISIBLE_DEVICES'] = \"0\" # 사용 gpu 선택\n",
    "session_config.setup_gpus(True, 0.5) # gpu 메모리 사용량 세팅"
   ]
  },
  {
   "cell_type": "code",
   "execution_count": null,
   "id": "885e7da9",
   "metadata": {},
   "outputs": [],
   "source": [
    "%config Completer.use_jedi = False"
   ]
  },
  {
   "cell_type": "code",
   "execution_count": null,
   "id": "3033ba63",
   "metadata": {},
   "outputs": [],
   "source": []
  },
  {
   "cell_type": "code",
   "execution_count": null,
   "id": "f892a4d0",
   "metadata": {},
   "outputs": [],
   "source": [
    "from data import coco\n",
    "from utils.anchor import generate_retina_boxes"
   ]
  },
  {
   "cell_type": "code",
   "execution_count": null,
   "id": "549b717d",
   "metadata": {},
   "outputs": [],
   "source": [
    "anchor_param = {\"ratios\": [0.5, 1, 2],\n",
    "                \"scales\": [1.0, 1.25,1.58],\n",
    "                           \"fm_sizes\": [32, 16, 8, 4, 2, 1],\n",
    "                           \"image_size\": 16} #anchor parameters\n",
    "anchors = generate_retina_boxes(anchor_param)\n",
    "\n",
    "dataset_root = \"/home/files/cnsi-sed-dataset\"\n",
    "dataset = coco.Dataset(dataset_root=dataset_root, \n",
    "                       input_shape=(16,16), \n",
    "                       label_set=[\"head\",\"helmet\",\"person\"],\n",
    "                       anchors=anchors)\n",
    "\n",
    "annotation_path = \"/home/files/cnsi-sed-dataset/integrated_labels/SED+person/TRAIN.json\"\n",
    "train_ds, length = dataset.load_data_generator(annotation_path, is_augment=False, is_box=True, num_examples=-1)"
   ]
  },
  {
   "cell_type": "code",
   "execution_count": null,
   "id": "1222b410",
   "metadata": {},
   "outputs": [],
   "source": [
    "head_ratio = []\n",
    "helmet_ratio = []\n",
    "people_ratio = []\n",
    "\n",
    "head = []\n",
    "helmet = []\n",
    "people = []\n",
    "\n",
    "\n",
    "def calculate_aspect_ratio(box):\n",
    "    xmin,ymin,xmax,ymax = box\n",
    "    ratio = (ymax-ymin)/(xmax-xmin) #너비 대비 높이\n",
    "    scale = (xmax-xmin)*(ymax-ymin) #이미지 대비 차지넓이\n",
    "    return scale, ratio\n",
    "    \n",
    "    \n",
    "for filename, image, labels, boxes in train_ds.take(10000):\n",
    "    for label, box in zip(labels, boxes):\n",
    "        if label == 1: #head\n",
    "            scale, ratio = calculate_aspect_ratio(box)\n",
    "            head.append([scale, ratio])\n",
    "        elif label == 2: #helmet\n",
    "            scale, ratio = calculate_aspect_ratio(box)\n",
    "            helmet.append([scale, ratio])\n",
    "        elif label == 3: #people\n",
    "            scale, ratio = calculate_aspect_ratio(box)\n",
    "            people.append([scale, ratio])"
   ]
  },
  {
   "cell_type": "code",
   "execution_count": null,
   "id": "1990d4fa",
   "metadata": {},
   "outputs": [],
   "source": [
    "from matplotlib import pyplot as plt\n",
    "import numpy as np"
   ]
  },
  {
   "cell_type": "code",
   "execution_count": null,
   "id": "b97968f1",
   "metadata": {},
   "outputs": [],
   "source": [
    "head = np.array(head)\n",
    "helmet = np.array(helmet)\n",
    "people = np.array(people)"
   ]
  },
  {
   "cell_type": "code",
   "execution_count": null,
   "id": "b5097ba3",
   "metadata": {},
   "outputs": [],
   "source": [
    "x = head\n",
    "\n",
    "plt.scatter(x[:,0],\n",
    "            x[:,1], s=0.5, c='r', label='head')\n",
    "plt.title(\"Object scale-ratio scatter graph\")\n",
    "plt.xlabel(\"Scale : object area by image area\")\n",
    "plt.ylabel(\"ratio : object height divided by width\")\n",
    "plt.legend()\n",
    "plt.show()\n",
    "plt.title(\"aspect ratio over 1.0\")\n",
    "plt.hist(x[:,1], range=(1,7), bins=10)\n",
    "plt.ylim(top=20000)\n",
    "plt.show()\n",
    "plt.title(\"aspect ratio below 1.0\")\n",
    "plt.hist(x[:,1], range=(0,1), bins=10)\n",
    "plt.ylim(top=500)\n",
    "plt.show()"
   ]
  },
  {
   "cell_type": "code",
   "execution_count": null,
   "id": "dc3d24df",
   "metadata": {},
   "outputs": [],
   "source": [
    "x = helmet\n",
    "\n",
    "plt.scatter(x[:,0],\n",
    "            x[:,1], s=0.5, c='r', label='helmet')\n",
    "plt.title(\"Object scale-ratio scatter graph\")\n",
    "plt.xlabel(\"Scale : object area by image area\")\n",
    "plt.ylabel(\"ratio : object height divided by width\")\n",
    "plt.legend()\n",
    "plt.show()\n",
    "plt.title(\"aspect ratio over 1.0\")\n",
    "plt.hist(x[:,1], range=(1,7), bins=10)\n",
    "plt.ylim(top=15000)\n",
    "plt.show()\n",
    "plt.title(\"aspect ratio below 1.0\")\n",
    "plt.hist(x[:,1], range=(0,1), bins=10)\n",
    "plt.ylim(top=1000)\n",
    "plt.show()"
   ]
  },
  {
   "cell_type": "code",
   "execution_count": null,
   "id": "357f72be",
   "metadata": {},
   "outputs": [],
   "source": [
    "x = people\n",
    "\n",
    "plt.scatter(x[:,0],\n",
    "            x[:,1], s=0.5, c='r', label='person')\n",
    "plt.title(\"Object scale-ratio scatter graph\")\n",
    "plt.xlabel(\"Scale : object area by image area\")\n",
    "plt.ylabel(\"ratio : object height divided by width\")\n",
    "plt.legend()\n",
    "plt.show()\n",
    "plt.title(\"aspect ratio over 1.0\")\n",
    "plt.hist(x[:,1], range=(1,7), bins=30)\n",
    "plt.ylim(top=5000)\n",
    "plt.show()\n",
    "plt.title(\"aspect ratio below 1.0\")\n",
    "plt.hist(x[:,1], range=(0,1), bins=30)\n",
    "plt.ylim(top=1000)\n",
    "plt.show()"
   ]
  },
  {
   "cell_type": "code",
   "execution_count": null,
   "id": "9a35b633",
   "metadata": {},
   "outputs": [],
   "source": []
  },
  {
   "cell_type": "code",
   "execution_count": null,
   "id": "1aba5c80",
   "metadata": {},
   "outputs": [],
   "source": [
    "plt.scatter(helmet[:,0],\n",
    "            helmet[:,1], s=0.5, c='b', label='helmet')\n",
    "\n",
    "plt.title(\"scale - aspect-ratio scatter graph\")\n",
    "plt.xlabel(\"scale per image size\")\n",
    "plt.ylabel(\"aspect ratio width/height\")\n",
    "plt.legend()\n",
    "plt.show()\n",
    "plt.hist(helmet[:,1], bins=30)\n",
    "plt.show()\n",
    "plt.hist(helmet[:,1], range=(0,1), bins=30)\n",
    "plt.show()"
   ]
  },
  {
   "cell_type": "code",
   "execution_count": null,
   "id": "27b287a0",
   "metadata": {},
   "outputs": [],
   "source": [
    "plt.scatter(people[:,0],\n",
    "            people[:,1], s=0.5, c='black', label='people')\n",
    "plt.title(\"scale - aspect-ratio scatter graph\")\n",
    "plt.xlabel(\"scale per image size\")\n",
    "plt.ylabel(\"aspect ratio width/height\")\n",
    "plt.legend()\n",
    "plt.show()\n",
    "plt.hist(people[:,1], bins=30)\n",
    "plt.show()\n",
    "plt.hist(people[:,1], range=(0,1), bins=30)\n",
    "plt.show()"
   ]
  },
  {
   "cell_type": "code",
   "execution_count": null,
   "id": "79b97245",
   "metadata": {},
   "outputs": [],
   "source": [
    "plt.imshow(image/255.)"
   ]
  },
  {
   "cell_type": "code",
   "execution_count": null,
   "id": "4498f27a",
   "metadata": {},
   "outputs": [],
   "source": [
    "plt.scatter(head[:,0],\n",
    "            head[:,1], c='r', label='head')\n",
    "plt.scatter(helmet[:,0],\n",
    "            helmet[:,1], c='b', label='helmet')\n",
    "plt.scatter(people[:,0],\n",
    "            people[:,1], c='black', label='people')\n",
    "plt.title(\"scale - aspect-ratio scatter graph\")\n",
    "plt.xlabel(\"scale per image size\")\n",
    "plt.ylabel(\"aspect ratio width/height\")\n",
    "plt.legend()"
   ]
  },
  {
   "cell_type": "code",
   "execution_count": null,
   "id": "eda14f0c",
   "metadata": {},
   "outputs": [],
   "source": [
    "np.array(people_scale)"
   ]
  },
  {
   "cell_type": "code",
   "execution_count": null,
   "id": "59a885dd",
   "metadata": {},
   "outputs": [],
   "source": []
  }
 ],
 "metadata": {
  "kernelspec": {
   "display_name": "Python 3",
   "language": "python",
   "name": "python3"
  },
  "language_info": {
   "codemirror_mode": {
    "name": "ipython",
    "version": 3
   },
   "file_extension": ".py",
   "mimetype": "text/x-python",
   "name": "python",
   "nbconvert_exporter": "python",
   "pygments_lexer": "ipython3",
   "version": "3.6.9"
  }
 },
 "nbformat": 4,
 "nbformat_minor": 5
}
