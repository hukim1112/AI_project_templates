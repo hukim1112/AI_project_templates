{
 "cells": [
  {
   "cell_type": "code",
   "execution_count": null,
   "id": "1b8adc35",
   "metadata": {},
   "outputs": [],
   "source": [
    "from utils.anchor import generate_retina_boxes\n",
    "anchor_param = {\"ratios\": [0.5, 1, 2, 3, 5],\n",
    "                \"scales\": [1.0, 1.33, 1.66],\n",
    "                           \"fm_sizes\": [32, 16, 8, 4, 2, 1],\n",
    "                           \"image_size\": 128} #anchor parameters\n",
    "anchors = generate_retina_boxes(anchor_param)"
   ]
  },
  {
   "cell_type": "code",
   "execution_count": null,
   "id": "7ef792d8",
   "metadata": {},
   "outputs": [],
   "source": [
    "anchors.shape"
   ]
  },
  {
   "cell_type": "code",
   "execution_count": null,
   "id": "73e48be1",
   "metadata": {},
   "outputs": [],
   "source": []
  }
 ],
 "metadata": {
  "kernelspec": {
   "display_name": "Python 3",
   "language": "python",
   "name": "python3"
  },
  "language_info": {
   "codemirror_mode": {
    "name": "ipython",
    "version": 3
   },
   "file_extension": ".py",
   "mimetype": "text/x-python",
   "name": "python",
   "nbconvert_exporter": "python",
   "pygments_lexer": "ipython3",
   "version": "3.6.9"
  }
 },
 "nbformat": 4,
 "nbformat_minor": 5
}
